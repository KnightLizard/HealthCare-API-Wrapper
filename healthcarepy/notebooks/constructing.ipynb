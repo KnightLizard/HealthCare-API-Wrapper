{
 "cells": [
  {
   "cell_type": "code",
   "execution_count": null,
   "id": "05318a03",
   "metadata": {},
   "outputs": [
    {
     "ename": "",
     "evalue": "",
     "output_type": "error",
     "traceback": [
      "\u001b[1;31mFailed to start the Kernel. \n",
      "\u001b[1;31mUnable to start Kernel 'Python 3.12.10' due to a timeout waiting for the ports to get used. \n",
      "\u001b[1;31mView Jupyter <a href='command:jupyter.viewOutput'>log</a> for further details."
     ]
    }
   ],
   "source": [
    "import json\n",
    "import requests\n",
    "import pandas as pd\n",
    "\n",
    "\n",
    "def print_json_tree(data, indent=0):\n",
    "    if isinstance(data, dict):\n",
    "        for key, value in data.items():\n",
    "            print('  ' * indent + str(key))\n",
    "            print_json_tree(value, indent + 1)\n",
    "    elif isinstance(data, list):\n",
    "        for i, item in enumerate(data):\n",
    "            print('  ' * indent + str(i))\n",
    "            print_json_tree(item, indent + 1)\n",
    "    else:\n",
    "        print('  ' * indent + str(data))"
   ]
  },
  {
   "cell_type": "code",
   "execution_count": null,
   "id": "d6d8e742",
   "metadata": {},
   "outputs": [],
   "source": [
    "def get_metadata_schemas_list():\n",
    "    url = \"https://data.healthcare.gov/api/1/metastore/schemas\"\n",
    "    res = requests.get(url)\n",
    "\n",
    "    data = res.json()\n",
    "    return list(data.keys())"
   ]
  },
  {
   "cell_type": "code",
   "execution_count": null,
   "id": "d4355423",
   "metadata": {},
   "outputs": [],
   "source": [
    "url = \"https://data.healthcare.gov/api/1/metastore/schemas/data-dictionary\"\n",
    "res = requests.get(url)\n",
    "\n",
    "print_json_tree(res.json())\n",
    "print(res.json())"
   ]
  },
  {
   "cell_type": "code",
   "execution_count": null,
   "id": "d0fd650c",
   "metadata": {},
   "outputs": [],
   "source": [
    "url = \"https://data.healthcare.gov/api/1/datastore/query/download?format=json\"\n",
    "res = requests.get(url)\n",
    "\n",
    "print_json_tree(res.json())\n",
    "print(res.json())"
   ]
  },
  {
   "cell_type": "code",
   "execution_count": null,
   "id": "b02f30f3",
   "metadata": {},
   "outputs": [],
   "source": [
    "url = \"https://data.healthcare.gov/api/1/search/facets\"\n",
    "res = requests.get(url)\n",
    "\n",
    "print_json_tree(res.json())\n",
    "print(res.json())"
   ]
  },
  {
   "cell_type": "code",
   "execution_count": null,
   "id": "ecd8eec4",
   "metadata": {},
   "outputs": [],
   "source": [
    "url = \"https://data.healthcare.gov/api/1/search/facets\"\n",
    "res = requests.get(url)\n",
    "\n",
    "print_json_tree(res.json())\n",
    "print(res.json())"
   ]
  },
  {
   "cell_type": "code",
   "execution_count": null,
   "id": "b2993e44",
   "metadata": {},
   "outputs": [],
   "source": [
    "base_url = \"https://data.healthcare.gov/api/1/\"\n",
    "page_size = 100 #Maximum page size supported by API\n",
    "\n",
    "search_url = base_url + f\"search\"\n",
    "response = requests.get(search_url)\n",
    "\n",
    "num_results = response.json()['total']\n",
    "iterations = num_results // page_size + (num_results % page_size > 0)\n",
    "\n",
    "datasets = {}\n",
    "searchable_keywords = []\n",
    "for i in range(iterations):\n",
    "    search_url = base_url + f\"search?page={i+1}&page_size={page_size}\"\n",
    "    response = requests.get(search_url)\n",
    "\n",
    "    response_json = response.json()\n",
    "    \n",
    "    for result in response_json['results'].keys():\n",
    "        searchable_keywords.extend(response_json['results'][result]['keyword'])\n",
    "\n",
    "print(searchable_keywords)"
   ]
  }
 ],
 "metadata": {
  "kernelspec": {
   "display_name": "Python 3",
   "language": "python",
   "name": "python3"
  },
  "language_info": {
   "codemirror_mode": {
    "name": "ipython",
    "version": 3
   },
   "file_extension": ".py",
   "mimetype": "text/x-python",
   "name": "python",
   "nbconvert_exporter": "python",
   "pygments_lexer": "ipython3",
   "version": "3.12.10"
  }
 },
 "nbformat": 4,
 "nbformat_minor": 5
}
